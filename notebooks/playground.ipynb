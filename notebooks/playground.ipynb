{
 "cells": [
  {
   "cell_type": "markdown",
   "metadata": {},
   "source": [
    "# TNG Playground\n",
    "\n",
    "This notebook serves as a sandbox, set up for easy access to TNG data. It is used to quickly load TNG simulation data, play round with it, determine quantities etc. "
   ]
  },
  {
   "cell_type": "markdown",
   "metadata": {},
   "source": [
    "## Set-up\n",
    "\n",
    "Setting up the Python env"
   ]
  },
  {
   "cell_type": "code",
   "execution_count": 10,
   "metadata": {},
   "outputs": [
    {
     "name": "stdout",
     "output_type": "stream",
     "text": [
      "The autoreload extension is already loaded. To reload it, use:\n",
      "  %reload_ext autoreload\n"
     ]
    }
   ],
   "source": [
    "%load_ext autoreload\n",
    "%autoreload 2"
   ]
  },
  {
   "cell_type": "code",
   "execution_count": 11,
   "metadata": {},
   "outputs": [],
   "source": [
    "# IMPORTS\n",
    "import h5py\n",
    "import logging\n",
    "import logging.config\n",
    "import matplotlib as mpl\n",
    "import matplotlib.pyplot as plt\n",
    "import numpy as np\n",
    "import numpy.ma as ma\n",
    "import os\n",
    "import sys\n",
    "from numpy.typing import ArrayLike\n",
    "from pathlib import Path\n",
    "from typing import Any, Union\n",
    "\n",
    "import illustris_python as il"
   ]
  },
  {
   "cell_type": "markdown",
   "metadata": {},
   "source": [
    "Importing helper scripts"
   ]
  },
  {
   "cell_type": "code",
   "execution_count": 12,
   "metadata": {},
   "outputs": [],
   "source": [
    "# import the helper scripts\n",
    "module_path = Path(os.getcwd()) / \"..\" / \"src\"\n",
    "sys.path.append(str(module_path.resolve()))\n",
    "import logging_config \n",
    "import processors\n",
    "import config\n",
    "import constants"
   ]
  },
  {
   "cell_type": "markdown",
   "metadata": {},
   "source": [
    "Set up a small logging environment for impromptu logging during lengthy operations:"
   ]
  },
  {
   "cell_type": "code",
   "execution_count": 13,
   "metadata": {},
   "outputs": [
    {
     "name": "stdout",
     "output_type": "stream",
     "text": [
      "INFO: I am a test log!\n"
     ]
    }
   ],
   "source": [
    "logging_cfg = logging_config.get_logging_config(\"INFO\")\n",
    "logging.config.dictConfig(logging_cfg)\n",
    "logger = logging.getLogger(\"root\")\n",
    "# test setup\n",
    "logger.info(\"I am a test log!\")"
   ]
  },
  {
   "cell_type": "markdown",
   "metadata": {},
   "source": [
    "Define some globals that point to different simulations:"
   ]
  },
  {
   "cell_type": "code",
   "execution_count": 14,
   "metadata": {},
   "outputs": [],
   "source": [
    "TEST_SIM = \"TNG50-4\"\n",
    "DEV_SIM = \"TNG300-2\"\n",
    "MAIN_SIM = \"TNG300-1\""
   ]
  },
  {
   "cell_type": "markdown",
   "metadata": {},
   "source": [
    "## Probing plots\n",
    "\n",
    "Firstly, the distribution of masses in the simulation should be probed to get an idea of how to best bin the halos by mass."
   ]
  },
  {
   "cell_type": "code",
   "execution_count": 6,
   "metadata": {},
   "outputs": [],
   "source": [
    "def plot_halo_mass_distribution() -> None:\n",
    "    \"\"\"Plot the mass distribution of halos in TNG300-1\"\"\"\n",
    "    logger.info(\"Loading halo mass data.\")\n",
    "    cfg = config.get_default_config(MAIN_SIM)\n",
    "    masses = il.groupcat.loadHalos(\n",
    "        cfg.base_path, cfg.snap_num, fields=cfg.mass_field\n",
    "    )\n",
    "    # adjust for units\n",
    "    masses = masses * 1e10 / constants.HUBBLE\n",
    "\n",
    "    max_mass = np.max(masses)\n",
    "\n",
    "    # plot hist of masses in log scale\n",
    "    logger.info(\"Plotting histrogram.\")\n",
    "    fig, axes = plt.subplots(figsize=(5, 5))\n",
    "    axes.set_xlabel(r\"Masses ($M_{Crit, 200}$) [$\\log M_\\odot$]\")\n",
    "    axes.set_ylabel(\"Count\")\n",
    "    axes.set_title(\"Mass distribution in TNG300-1\")\n",
    "    plot_config = {\n",
    "        \"bins\": 40,\n",
    "        \"histtype\": \"stepfilled\",\n",
    "        \"log\": False,\n",
    "        \"edgecolor\": \"black\",\n",
    "        \"facecolor\": \"crimson\",\n",
    "    }\n",
    "    # plot only the log and exclude masses near zero\n",
    "    axes.hist(np.log10(masses[(masses > 1)]), **plot_config)\n",
    "    # add info on min and max mass\n",
    "    axes.text(11.8, 2e5, rf\"Max mass: ${max_mass:.2e} M_\\odot$\")\n"
   ]
  },
  {
   "cell_type": "code",
   "execution_count": 7,
   "metadata": {},
   "outputs": [
    {
     "name": "stdout",
     "output_type": "stream",
     "text": [
      "INFO: Loading halo mass data.\n"
     ]
    },
    {
     "name": "stdout",
     "output_type": "stream",
     "text": [
      "INFO: Plotting histrogram.\n"
     ]
    },
    {
     "data": {
      "image/png": "[encoded data removed]",
      "text/plain": [
       "<Figure size 500x500 with 1 Axes>"
      ]
     },
     "metadata": {},
     "output_type": "display_data"
    }
   ],
   "source": [
    "plot_halo_mass_distribution()"
   ]
  },
  {
   "cell_type": "markdown",
   "metadata": {},
   "source": [
    "Judging by this, it is sensible to consider masses ranging from $10^8 M_\\odot$ up to around $10^{15} M_\\odot$, but given the fact that an overwhelmin majority of halos have masses between $10^8 M_\\odot$ and $10^{12} M_\\odot$, it might be advisable to exclude very high mass bins in the beginning and only consider them for plots of individual halo temperature distributions."
   ]
  },
  {
   "cell_type": "markdown",
   "metadata": {},
   "source": [
    "## File size estimates\n",
    "\n",
    "Estimating how much space on disk it would take to save histograms of all halos in TNG300-1 to file. Every histogram is a numpy array of size (50,) and of data type float32. This means that the total array will occupy $N \\cdot 50 \\cdot 32 \\ \\text{bytes}$ on disk, where $N$ is the number of halos in TNG300-1. We can easily find the total file soze then as follows:"
   ]
  },
  {
   "cell_type": "code",
   "execution_count": 8,
   "metadata": {},
   "outputs": [],
   "source": [
    "def estimate_file_size_for_hists() -> float:\n",
    "    \"\"\"\n",
    "    Return file size for histogram data saved to file in MB.\n",
    "    \"\"\"\n",
    "    NUM_BINS = 50\n",
    "    cfg = config.get_default_config(MAIN_SIM)\n",
    "    f = h5py.File(il.groupcat.gcPath(cfg.base_path, cfg.snap_num, 0), 'r')\n",
    "    n_groups = f[\"Header\"].attrs[\"Ngroups_Total\"]\n",
    "    f.close()\n",
    "    print(f\"Total number of halos: {n_groups:,.0f}\")\n",
    "    # calculate file size\n",
    "    size = sys.getsizeof(np.zeros(NUM_BINS, dtype=\"float32\"))\n",
    "    file_size_in_bytes = size * n_groups\n",
    "    return file_size_in_bytes / 1024. / 1024."
   ]
  },
  {
   "cell_type": "code",
   "execution_count": 9,
   "metadata": {},
   "outputs": [
    {
     "name": "stdout",
     "output_type": "stream",
     "text": [
      "Total number of halos: 17,625,892\n",
      "Estimated size on disk: 5244.52 MB\n"
     ]
    }
   ],
   "source": [
    "filesize = estimate_file_size_for_hists()\n",
    "print(f\"Estimated size on disk: {filesize:.2f} MB\")"
   ]
  },
  {
   "cell_type": "markdown",
   "metadata": {},
   "source": [
    "Similarly, we want to estimate how much space in memory it will take up to load four fields of all particles in TNG300-1."
   ]
  },
  {
   "cell_type": "code",
   "execution_count": 10,
   "metadata": {},
   "outputs": [],
   "source": [
    "def estimate_memory_size_for_particle_data() -> float:\n",
    "    \"\"\"\n",
    "    Return size in memory for gas data with four fields in GB.\n",
    "    \"\"\"\n",
    "    NUM_FIELDS = 4\n",
    "    cfg = config.get_default_config(MAIN_SIM)\n",
    "    f = h5py.File(il.snapshot.snapPath(cfg.base_path, cfg.snap_num, 0), 'r')\n",
    "    n_part = f[\"Header\"].attrs[\"NumPart_Total\"][0]\n",
    "    f.close()\n",
    "    size = sys.getsizeof(np.zeros(n_part, dtype=\"float32\"))\n",
    "    memsize = NUM_FIELDS * size\n",
    "    return memsize / 1024. / 1024. / 1024."
   ]
  },
  {
   "cell_type": "code",
   "execution_count": 11,
   "metadata": {},
   "outputs": [
    {
     "name": "stdout",
     "output_type": "stream",
     "text": [
      "Estimated size in memory: 23.3921 GB\n"
     ]
    }
   ],
   "source": [
    "memsize = estimate_memory_size_for_particle_data()\n",
    "print(f\"Estimated size in memory: {memsize:.4f} GB\")"
   ]
  },
  {
   "cell_type": "markdown",
   "metadata": {},
   "source": [
    "## Exploring offsets\n",
    "\n",
    "Here we want to understand how offset files work: what do offsets loaded with `il.snapshot.getSnapOffsets` look like, what do the individual offsets reprsent and most importantly: which offset gives us the first particle ID in a FoF group."
   ]
  },
  {
   "cell_type": "code",
   "execution_count": 12,
   "metadata": {},
   "outputs": [],
   "source": [
    "def explore_offsets() -> dict:\n",
    "    cfg = config.get_default_config(MAIN_SIM)\n",
    "    offsets = il.snapshot.getSnapOffsets(cfg.base_path, cfg.snap_num, 28364, \"Group\")\n",
    "    print(f\"Shape of 'snapOffsets': {offsets['snapOffsets'].shape}\")\n",
    "    print(f\"Shape of 'lenType': {offsets['lenType'].shape}, type: {type(offsets['lenType'][0])}\")\n",
    "    print(f\"Shape of 'offsetType': {offsets['offsetType'].shape}, type: {type(offsets['offsetType'][0])}\")\n",
    "    return offsets"
   ]
  },
  {
   "cell_type": "code",
   "execution_count": 13,
   "metadata": {},
   "outputs": [
    {
     "name": "stdout",
     "output_type": "stream",
     "text": [
      "Shape of 'snapOffsets': (6, 600)\n",
      "Shape of 'lenType': (6,), type: <class 'numpy.int32'>\n",
      "Shape of 'offsetType': (6,), type: <class 'numpy.int64'>\n",
      "CPU times: user 88 µs, sys: 4.12 ms, total: 4.2 ms\n",
      "Wall time: 60.1 ms\n"
     ]
    },
    {
     "data": {
      "text/plain": [
       "{'snapOffsets': array([[          0,    23851047,    47762531, ..., 14382702488,\n",
       "         14406373170, 14430545360],\n",
       "        [          0,    25680412,    51322410, ..., 15546108263,\n",
       "         15572641241, 15598828199],\n",
       "        [          0,           0,           0, ...,           0,\n",
       "                   0,           0],\n",
       "        [          0,    27199194,    54194711, ..., 15531779586,\n",
       "         15561116312, 15592723539],\n",
       "        [          0,     1787650,     3494151, ...,   708520692,\n",
       "           709748698,   710864666],\n",
       "        [          0,        1103,        2201, ...,      697660,\n",
       "              698785,      699983]]),\n",
       " 'lenType': array([ 8411, 30518,     0,     0,  4194,     2], dtype=int32),\n",
       " 'offsetType': array([2488838398, 4775404601,          0,          0,  571438234,\n",
       "            156918])}"
      ]
     },
     "execution_count": 13,
     "metadata": {},
     "output_type": "execute_result"
    }
   ],
   "source": [
    "%time explore_offsets()"
   ]
  },
  {
   "cell_type": "markdown",
   "metadata": {},
   "source": [
    "It appears that `lenType` gives the number of particles per type in the given halo, while `offsetType` gives the index of the first particle of every type belonging to that halo. This way, one can get all particles of particle type `i` by slicing an array of all particles of type `i` using\n",
    "\n",
    "```python\n",
    "halo_particles = type_i_particles[offsets[\"offsetType\"][i] : offsets[\"offsetType\"][i] + offsets[\"lenType\"][i]]\n",
    "```\n",
    "\n",
    "The `snapOffsets` are probably the offsets of the first particle of every type across all snapshots."
   ]
  },
  {
   "cell_type": "markdown",
   "metadata": {},
   "source": [
    "## Comparing virial temperature estimates\n",
    "\n",
    "We have two virial temperature estimates that we want to compare: firstly, the virial temperature estimate from Nelson et al. (2013), which is based on Barkana & Loeb (2001) and which assumes a molecular mean weight of $\\mu \\sim 0.6$ and a virial radius fully determined by the mass:\n",
    "\n",
    "$$T_{vir} \\simeq 4 \\cdot 10^5 \\text{K} \\left( \\dfrac{M}{10^{11} h^{-1} M_\\odot} \\right)^\\frac{2}{3} \\left( \\dfrac{1 + z}{3} \\right)$$\n",
    "\n",
    "Secondly, we have the estimate derived ourselves directly from the virial theorem, assuming the halo is virialized and the velocities within are thermal velocities, caused purely by the gravitational potential:\n",
    "\n",
    "$$T_{vir} \\simeq \\dfrac{2}{5} \\dfrac{G M m_p}{R k_B}$$\n",
    "\n",
    "We might wish to improve this relation by replacing the pure proton mass with the term $\\mu m_p$ for more accuracy. This is (sans the pre-factor) equivalent to the formula for virial temperature in Barkana & Loeb (2001):\n",
    "\n",
    "$$T_{vir} \\simeq \\dfrac{\\mu m_p}{2k_B} \\dfrac{GM}{R}$$\n",
    "\n",
    "We now want to see how these compare."
   ]
  },
  {
   "cell_type": "code",
   "execution_count": 32,
   "metadata": {},
   "outputs": [],
   "source": [
    "def virial_temperature_nelson(mass: float) -> float:\n",
    "    \"\"\"Return virial temperature according to Nelson et al. (2013)\"\"\"\n",
    "    return 4e5 * (mass / (1e11 * (constants.HUBBLE)**(-1)))**(2/3) / 3\n",
    "                  \n",
    "\n",
    "def virial_temperature_simple(mass: float, radius: float) -> float:\n",
    "    \"\"\"Return the virial temperature according to a simple estimate\"\"\"\n",
    "    numerator = 2 * constants.G * constants.m_p * mass * constants.M_sol\n",
    "    denominator = 5 * radius * constants.kpc * constants.k_B\n",
    "    return numerator / denominator\n",
    "\n",
    "\n",
    "def virial_temperature_barakana_loeb(mass: float, radius: float) -> float:\n",
    "    \"\"\"\n",
    "    Return the virial temperature according to Barkana & Loeb (2002)\n",
    "    \"\"\"\n",
    "    numerator = 0.6 * constants.m_p * constants.G * constants.M_sol * mass\n",
    "    denominator = 2 * constants.k_B * constants.kpc * radius\n",
    "    return numerator / denominator\n",
    "\n",
    "\n",
    "def compare_virial_temperatures(halo_id: int) -> None:\n",
    "    \"\"\"\n",
    "    Calculate halo virial temperature in three ways and print result\n",
    "\n",
    "    :param halo_id: The halo ID of the halo to use.\n",
    "    \"\"\"\n",
    "    cfg = config.get_default_config(MAIN_SIM)\n",
    "    halo_data = il.groupcat.loadSingle(cfg.base_path, cfg.snap_num, haloID=halo_id)\n",
    "    mass = halo_data[cfg.mass_field] * 1e10 / constants.HUBBLE\n",
    "    radius = halo_data[cfg.radius_field] / constants.HUBBLE\n",
    "\n",
    "    if radius == 0:\n",
    "        print(\"Halo has no virial radius, skipping.\")\n",
    "        return\n",
    "\n",
    "    # out put comparison\n",
    "    print(f\"Nelson: log T = {np.log10(virial_temperature_nelson(mass))}\")\n",
    "    print(f\"Simple: log T = {np.log10(virial_temperature_simple(mass, radius))}\")\n",
    "    print(f\"B&L: log T = {np.log10(virial_temperature_barakana_loeb(mass, radius))}\")"
   ]
  },
  {
   "cell_type": "code",
   "execution_count": 33,
   "metadata": {},
   "outputs": [
    {
     "name": "stdout",
     "output_type": "stream",
     "text": [
      "Halo with ID 12:\n",
      "Nelson: log T = 7.556409957182588\n",
      "Simple: log T = 7.8725278666830665\n",
      "B&L: log T = 7.747589130074766\n",
      "\n",
      "Halo with ID 7082873:\n",
      "Nelson: log T = 3.935538469466151\n",
      "Simple: log T = 4.251644526023505\n",
      "B&L: log T = 4.1267057894152055\n",
      "\n",
      "Halo with ID 10294339:\n",
      "Nelson: log T = 3.6425041935882088\n",
      "Simple: log T = 3.9586149364247945\n",
      "B&L: log T = 3.8336761998164945\n",
      "\n",
      "Halo with ID 3727479:\n",
      "Nelson: log T = 4.148963730529977\n",
      "Simple: log T = 4.465076389634558\n",
      "B&L: log T = 4.340137653026258\n",
      "\n",
      "Halo with ID 10214430:\n",
      "Nelson: log T = 3.8040443454304427\n",
      "Simple: log T = 4.120162767857839\n",
      "B&L: log T = 3.9952240312495393\n",
      "\n",
      "Halo with ID 11546418:\n",
      "Nelson: log T = 3.8907935299756193\n",
      "Simple: log T = 4.2069176649920825\n",
      "B&L: log T = 4.081978928383783\n",
      "\n"
     ]
    }
   ],
   "source": [
    "print(\"Halo with ID 12:\")\n",
    "compare_virial_temperatures(12)\n",
    "print(\"\")\n",
    "\n",
    "for _ in range(5): \n",
    "    id = np.random.randint(0, 17_000_000)\n",
    "    print(f\"Halo with ID {id}:\")\n",
    "    compare_virial_temperatures(id)\n",
    "    print(\"\")"
   ]
  },
  {
   "cell_type": "markdown",
   "metadata": {},
   "source": [
    "We see that the estimation from Nelson (2013) is noticably smaller than the two other estimates. The difference between the last two values is explained by the different coeffcient, of course. "
   ]
  },
  {
   "cell_type": "markdown",
   "metadata": {},
   "source": []
  }
 ],
 "metadata": {
  "kernelspec": {
   "display_name": "thesisEnv",
   "language": "python",
   "name": "python3"
  },
  "language_info": {
   "codemirror_mode": {
    "name": "ipython",
    "version": 3
   },
   "file_extension": ".py",
   "mimetype": "text/x-python",
   "name": "python",
   "nbconvert_exporter": "python",
   "pygments_lexer": "ipython3",
   "version": "3.10.9"
  },
  "orig_nbformat": 4
 },
 "nbformat": 4,
 "nbformat_minor": 2
}
