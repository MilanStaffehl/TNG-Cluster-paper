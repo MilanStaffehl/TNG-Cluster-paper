{
 "cells": [
  {
   "cell_type": "markdown",
   "metadata": {},
   "source": [
    "# TNG Playground\n",
    "\n",
    "This notebook serves as a sandbox, set up for easy access to TNG data. It is used to quickly load TNG simulation data, play round with it, determine quantities etc. "
   ]
  },
  {
   "cell_type": "markdown",
   "metadata": {},
   "source": [
    "## Set-up\n",
    "\n",
    "Setting up the Python env"
   ]
  },
  {
   "cell_type": "code",
   "execution_count": 2,
   "metadata": {
    "ExecuteTime": {
     "end_time": "2024-01-18T10:18:46.568743302Z",
     "start_time": "2024-01-18T10:18:46.552789811Z"
    }
   },
   "outputs": [],
   "source": [
    "%load_ext autoreload\n",
    "%autoreload 2"
   ]
  },
  {
   "cell_type": "code",
   "execution_count": 3,
   "metadata": {
    "ExecuteTime": {
     "end_time": "2024-01-18T10:18:50.482984548Z",
     "start_time": "2024-01-18T10:18:47.591061492Z"
    }
   },
   "outputs": [],
   "source": [
    "# IMPORTS\n",
    "import h5py\n",
    "import logging\n",
    "import logging.config\n",
    "import matplotlib.pyplot as plt\n",
    "import numpy as np\n",
    "import os\n",
    "import sys\n",
    "from pathlib import Path\n",
    "\n",
    "import illustris_python as il"
   ]
  },
  {
   "cell_type": "markdown",
   "metadata": {},
   "source": [
    "Importing helper scripts"
   ]
  },
  {
   "cell_type": "code",
   "execution_count": 4,
   "metadata": {
    "ExecuteTime": {
     "end_time": "2024-01-18T10:18:52.353194331Z",
     "start_time": "2024-01-18T10:18:51.301226819Z"
    }
   },
   "outputs": [],
   "source": [
    "# import the helper scripts\n",
    "module_path = Path(os.getcwd()) / \"..\" / \"src\"\n",
    "sys.path.append(str(module_path.resolve()))\n",
    "from library.config import logging_config, config\n",
    "from library.processing import selection\n",
    "from library.data_acquisition import halos_daq\n",
    "from library import constants"
   ]
  },
  {
   "cell_type": "markdown",
   "metadata": {},
   "source": [
    "Set up a small logging environment for impromptu logging during lengthy operations:"
   ]
  },
  {
   "cell_type": "code",
   "execution_count": 5,
   "metadata": {
    "ExecuteTime": {
     "end_time": "2024-01-18T10:20:20.066669279Z",
     "start_time": "2024-01-18T10:20:19.785347656Z"
    }
   },
   "outputs": [
    {
     "name": "stdout",
     "output_type": "stream",
     "text": [
      "INFO: I am a test log!\n"
     ]
    }
   ],
   "source": [
    "logging_cfg = logging_config.get_logging_config(\"INFO\")\n",
    "logging.config.dictConfig(logging_cfg)\n",
    "logger = logging.getLogger(\"root\")\n",
    "# test setup\n",
    "logger.info(\"I am a test log!\")"
   ]
  },
  {
   "cell_type": "markdown",
   "metadata": {},
   "source": [
    "Define some globals that point to different simulations:"
   ]
  },
  {
   "cell_type": "code",
   "execution_count": 6,
   "metadata": {
    "ExecuteTime": {
     "end_time": "2024-01-18T10:20:20.070301680Z",
     "start_time": "2024-01-18T10:20:20.069466277Z"
    }
   },
   "outputs": [],
   "source": [
    "TEST_SIM = \"TNG50-4\"\n",
    "DEV_SIM = \"TNG300-2\"\n",
    "MAIN_SIM = \"TNG300-1\"\n",
    "CLUSTER = \"TNG-Cluster\""
   ]
  },
  {
   "cell_type": "markdown",
   "metadata": {},
   "source": [
    "## Probing plots\n",
    "\n",
    "Firstly, the distribution of masses in the simulation should be probed to get an idea of how to best bin the halos by mass."
   ]
  },
  {
   "cell_type": "code",
   "execution_count": 6,
   "metadata": {},
   "outputs": [],
   "source": [
    "def plot_halo_mass_distribution() -> float:\n",
    "    \"\"\"Plot the mass distribution of halos in TNG300-1\"\"\"\n",
    "    logger.info(\"Loading halo mass data.\")\n",
    "    cfg = config.get_default_config(MAIN_SIM)\n",
    "    masses = il.groupcat.loadHalos(\n",
    "        cfg.base_path, cfg.snap_num, fields=cfg.mass_field\n",
    "    )\n",
    "    # adjust for units\n",
    "    masses = masses * 1e10 / constants.HUBBLE\n",
    "\n",
    "    max_mass = np.max(masses)\n",
    "\n",
    "    # plot hist of masses in log scale\n",
    "    logger.info(\"Plotting histrogram.\")\n",
    "    fig, axes = plt.subplots(figsize=(5, 5))\n",
    "    axes.set_xlabel(r\"Masses ($M_{Crit, 200}$) [$\\log M_\\odot$]\")\n",
    "    axes.set_ylabel(\"Count\")\n",
    "    axes.set_title(\"Mass distribution in TNG300-1\")\n",
    "    plot_config = {\n",
    "        \"bins\": 40,\n",
    "        \"histtype\": \"stepfilled\",\n",
    "        \"log\": False,\n",
    "        \"edgecolor\": \"black\",\n",
    "        \"facecolor\": \"crimson\",\n",
    "    }\n",
    "    # plot only the log and exclude masses near zero\n",
    "    axes.hist(np.log10(masses[(masses > 1)]), **plot_config)\n",
    "    # add info on min and max mass\n",
    "    axes.text(11.8, 2e5, rf\"Max mass: ${max_mass:.2e} M_\\odot$\")\n",
    "    return max_mass\n"
   ]
  },
  {
   "cell_type": "code",
   "execution_count": 7,
   "metadata": {},
   "outputs": [
    {
     "name": "stdout",
     "output_type": "stream",
     "text": [
      "INFO: Loading halo mass data.\n"
     ]
    },
    {
     "name": "stdout",
     "output_type": "stream",
     "text": [
      "INFO: Plotting histrogram.\n"
     ]
    },
    {
     "data": {
      "image/png": "[encoded data removed]",
      "text/plain": [
       "<Figure size 500x500 with 1 Axes>"
      ]
     },
     "metadata": {},
     "output_type": "display_data"
    }
   ],
   "source": [
    "plot_halo_mass_distribution()"
   ]
  },
  {
   "cell_type": "markdown",
   "metadata": {},
   "source": [
    "Judging by this, it is sensible to consider masses ranging from $10^8 M_\\odot$ up to around $10^{15} M_\\odot$, but given the fact that an overwhelming majority of halos have masses between $10^8 M_\\odot$ and $10^{12} M_\\odot$, it might be advisable to exclude very high mass bins in the beginning and only consider them for plots of individual halo temperature distributions.\n",
    "\n",
    "We do a similar plot for the virial radii for completeness:"
   ]
  },
  {
   "cell_type": "code",
   "execution_count": 16,
   "metadata": {},
   "outputs": [],
   "source": [
    "def plot_halo_radial_distribution() -> float:\n",
    "    \"\"\"Plot the mass distribution of halos in TNG300-1\"\"\"\n",
    "    logger.info(\"Loading halo mass data.\")\n",
    "    cfg = config.get_default_config(MAIN_SIM)\n",
    "    radii = il.groupcat.loadHalos(\n",
    "        cfg.base_path, cfg.snap_num, fields=cfg.radius_field\n",
    "    )\n",
    "    # adjust for units\n",
    "    radii = radii / constants.HUBBLE\n",
    "\n",
    "    max_radius = np.max(radii)\n",
    "\n",
    "    # plot hist of masses in log scale\n",
    "    logger.info(\"Plotting histrogram.\")\n",
    "    fig, axes = plt.subplots(figsize=(5, 5))\n",
    "    axes.set_xlabel(r\"Radius ($R_{Crit, 200}$) [$kpc$]\")\n",
    "    axes.set_ylabel(\"Count\")\n",
    "    axes.set_title(\"Radial distribution in TNG300-1\")\n",
    "    plot_config = {\n",
    "        \"bins\": 40,\n",
    "        \"histtype\": \"stepfilled\",\n",
    "        \"log\": False,\n",
    "        \"edgecolor\": \"black\",\n",
    "        \"facecolor\": \"teal\",\n",
    "    }\n",
    "    # plot only the log and exclude masses near zero\n",
    "    axes.hist(np.log10(radii[(radii > 1)]), **plot_config)\n",
    "    # add info on min and max mass\n",
    "    axes.text(1.9, 5e5, rf\"Max radius: ${max_radius:.2e} \\ \\log_{{10}} kpc$\")\n",
    "    return max_radius"
   ]
  },
  {
   "cell_type": "code",
   "execution_count": 17,
   "metadata": {},
   "outputs": [
    {
     "name": "stdout",
     "output_type": "stream",
     "text": [
      "INFO: Loading halo mass data.\n"
     ]
    },
    {
     "name": "stdout",
     "output_type": "stream",
     "text": [
      "INFO: Plotting histrogram.\n"
     ]
    },
    {
     "data": {
      "text/plain": [
       "2432.7222"
      ]
     },
     "execution_count": 17,
     "metadata": {},
     "output_type": "execute_result"
    },
    {
     "data": {
      "image/png": "[encoded data removed]",
      "text/plain": [
       "<Figure size 500x500 with 1 Axes>"
      ]
     },
     "metadata": {},
     "output_type": "display_data"
    }
   ],
   "source": [
    "plot_halo_radial_distribution()"
   ]
  },
  {
   "cell_type": "markdown",
   "metadata": {},
   "source": [
    "## Exploring data format\n",
    "\n",
    "We wish to explore the numeric format of gas data fields, as they are not explicitly given in the data specification (as opposed to group data, which has this information added)."
   ]
  },
  {
   "cell_type": "code",
   "execution_count": 8,
   "metadata": {},
   "outputs": [],
   "source": [
    "def show_particle_field_format() -> None:\n",
    "    \"\"\" \n",
    "    Print the type of various data fields of gas data from TNG300-1.\n",
    "    \"\"\"\n",
    "    fields = [\n",
    "        \"InternalEnergy\", \"ElectronAbundance\", \"Masses\", \"StarFormationRate\", \"Coordinates\"\n",
    "    ]\n",
    "    cfg = config.get_default_config(MAIN_SIM)\n",
    "    gas_data = il.snapshot.loadHalo(\n",
    "        cfg.base_path, cfg.snap_num, id=2000, partType=0, fields=fields\n",
    "    )\n",
    "    for field in fields:\n",
    "        print(f\"Type of {field}: {gas_data[field].dtype}\")"
   ]
  },
  {
   "cell_type": "code",
   "execution_count": 9,
   "metadata": {},
   "outputs": [
    {
     "name": "stdout",
     "output_type": "stream",
     "text": [
      "Type of InternalEnergy: float32\n",
      "Type of ElectronAbundance: float32\n",
      "Type of Masses: float32\n",
      "Type of StarFormationRate: float32\n",
      "Type of Coordinates: float64\n"
     ]
    }
   ],
   "source": [
    "show_particle_field_format()"
   ]
  },
  {
   "cell_type": "markdown",
   "metadata": {},
   "source": [
    "## File size estimates\n",
    "\n",
    "### Saving histograms for every halo of TNG300-1\n",
    "\n",
    "Estimating how much space on disk it would take to save histograms of all halos in TNG300-1 to file. Every histogram is a numpy array of size (50,) and of data type float32. This means that the total array will occupy $N \\cdot 50 \\cdot 32 \\ \\text{bytes}$ on disk, where $N$ is the number of halos in TNG300-1. We can easily find the total file size then as follows:"
   ]
  },
  {
   "cell_type": "code",
   "execution_count": 10,
   "metadata": {},
   "outputs": [],
   "source": [
    "def estimate_file_size_for_hists() -> float:\n",
    "    \"\"\"\n",
    "    Return file size for histogram data saved to file in MB.\n",
    "    \"\"\"\n",
    "    NUM_BINS = 50\n",
    "    cfg = config.get_default_config(MAIN_SIM)\n",
    "    f = h5py.File(il.groupcat.gcPath(cfg.base_path, cfg.snap_num, 0), 'r')\n",
    "    n_groups = f[\"Header\"].attrs[\"Ngroups_Total\"]\n",
    "    f.close()\n",
    "    print(f\"Total number of halos: {n_groups:,.0f}\")\n",
    "    # calculate file size\n",
    "    size = sys.getsizeof(np.zeros(NUM_BINS, dtype=\"float32\"))\n",
    "    file_size_in_bytes = size * n_groups\n",
    "    return file_size_in_bytes / 1024. / 1024."
   ]
  },
  {
   "cell_type": "code",
   "execution_count": 11,
   "metadata": {},
   "outputs": [
    {
     "name": "stdout",
     "output_type": "stream",
     "text": [
      "Total number of halos: 17,625,892\n",
      "Estimated size on disk: 5244.52 MB\n"
     ]
    }
   ],
   "source": [
    "filesize = estimate_file_size_for_hists()\n",
    "print(f\"Estimated size on disk: {filesize:.2f} MB\")"
   ]
  },
  {
   "cell_type": "markdown",
   "metadata": {},
   "source": [
    "### Loading four fields for every gas particle in TNG300-1\n",
    "\n",
    "Similarly, we want to estimate how much space in memory it will take up to load four fields of all particles in TNG300-1. This is useful as temperature is calculated with three quantities: internal energy, electron abundance and star formation rate. This means that in order to calculate temperature, four fields will be loaded."
   ]
  },
  {
   "cell_type": "code",
   "execution_count": 11,
   "metadata": {},
   "outputs": [],
   "source": [
    "def estimate_memory_size_for_particle_data() -> float:\n",
    "    \"\"\"\n",
    "    Return size in memory for gas data with four fields in GB.\n",
    "    \"\"\"\n",
    "    NUM_FIELDS = 4\n",
    "    cfg = config.get_default_config(MAIN_SIM)\n",
    "    f = h5py.File(il.snapshot.snapPath(cfg.base_path, cfg.snap_num, 0), 'r')\n",
    "    n_part = f[\"Header\"].attrs[\"NumPart_Total\"][0]\n",
    "    n_part += f[\"Header\"].attrs[\"NumPart_Total_HighWord\"][0] * 2**32\n",
    "    print(f\"Total number of gas particles: {n_part:,}\")\n",
    "    f.close()\n",
    "    size = sys.getsizeof(np.zeros(n_part, dtype=\"float32\"))\n",
    "    memsize = NUM_FIELDS * size\n",
    "    return memsize / 1024. / 1024. / 1024."
   ]
  },
  {
   "cell_type": "code",
   "execution_count": 12,
   "metadata": {},
   "outputs": [
    {
     "name": "stdout",
     "output_type": "stream",
     "text": [
      "Total number of gas particles: 14,454,722,210\n",
      "Estimated size in memory: 215.3921 GB\n"
     ]
    }
   ],
   "source": [
    "memsize = estimate_memory_size_for_particle_data()\n",
    "print(f\"Estimated size in memory: {memsize:.4f} GB\")"
   ]
  },
  {
   "cell_type": "markdown",
   "metadata": {},
   "source": [
    "#### Accounting for multiprocessing\n",
    "\n",
    "If we now also assume that we wish to calculate the temperature in parallel from these quantities, that gives us a number of $p$ processes, which means the memory size is duplicated by a factor of $p$. We want to find how many processes we can afford on the 250 GB, 500 GB and 1 TB nodes respectively.\n",
    "\n",
    "We also have to take into account the mass and ID data for the halos that are selected prior to the loading of gas data. We can assume there to be 280 halos in TNG300-1, every one of which has an int32 ID and a float32 mass, meaning they take up $280(32 + 32) = 17.5 kB$. That is pretty much negligible. \n",
    "\n",
    "We thus have $p_{max} = M_{node} / M_{part}$, where $M$ is the memory capacity of the node and the memory requirement for the particle data. "
   ]
  },
  {
   "cell_type": "code",
   "execution_count": 13,
   "metadata": {},
   "outputs": [],
   "source": [
    "def estimate_processes_per_node(node_cap: float) -> float:\n",
    "    \"\"\" \n",
    "    Estimate the number of processes the given node can support.\n",
    "\n",
    "    :param node_cap: memory capacity of the node in GB.\n",
    "    \"\"\"\n",
    "    memory_req = estimate_memory_size_for_particle_data()  # in GB\n",
    "    return node_cap / memory_req"
   ]
  },
  {
   "cell_type": "code",
   "execution_count": 14,
   "metadata": {},
   "outputs": [
    {
     "name": "stdout",
     "output_type": "stream",
     "text": [
      "Total number of gas particles: 14,454,722,210\n",
      "p.vera supports 1.1606737039812773 processes.\n",
      "Total number of gas particles: 14,454,722,210\n",
      "p.large supports 2.3213474079625547 processes.\n",
      "Total number of gas particles: 14,454,722,210\n",
      "p.huge supports 4.642694815925109 processes.\n"
     ]
    }
   ],
   "source": [
    "print(f\"p.vera supports {estimate_processes_per_node(250)} processes.\")\n",
    "print(f\"p.large supports {estimate_processes_per_node(500)} processes.\")\n",
    "print(f\"p.huge supports {estimate_processes_per_node(1000)} processes.\")"
   ]
  },
  {
   "cell_type": "markdown",
   "metadata": {},
   "source": [
    "We see that we cannot use the nodes to their full extent. Accounting for other memory requirments such as temporary memory allocation, pipeline objects and the halo data, a safe estimate seems to be:\n",
    "\n",
    "- p.vera: 9-10 processes\n",
    "- p.large: ~20 processes\n",
    "- p.huge: 40-42 processes"
   ]
  },
  {
   "cell_type": "markdown",
   "metadata": {},
   "source": [
    "### Size in memory of a 50x50 2D histogram\n",
    "\n",
    "Finally, we want to know the size in memory for 50 x 50 2D histograms with float32 values:"
   ]
  },
  {
   "cell_type": "code",
   "execution_count": 15,
   "metadata": {},
   "outputs": [],
   "source": [
    "def estimate_file_size_for_2dhists() -> float:\n",
    "    \"\"\"\n",
    "    Return file size for histogram data saved to file in MB.\n",
    "    \"\"\"\n",
    "    EDGE_LENGTH = 50\n",
    "    cfg = config.get_default_config(MAIN_SIM)\n",
    "    f = h5py.File(il.groupcat.gcPath(cfg.base_path, cfg.snap_num, 0), 'r')\n",
    "    n_groups = f[\"Header\"].attrs[\"Ngroups_Total\"]\n",
    "    f.close()\n",
    "    print(f\"Total number of halos: {n_groups:,.0f}\")\n",
    "    # calculate file size\n",
    "    size = sys.getsizeof(np.ones((EDGE_LENGTH, EDGE_LENGTH), dtype=\"float32\"))\n",
    "    file_size_in_bytes = size * n_groups\n",
    "    return file_size_in_bytes / 1024. / 1024. / 1024.  # in GB"
   ]
  },
  {
   "cell_type": "markdown",
   "metadata": {},
   "source": [
    "Since at any given time, the given number of processes will also load halo gas data (which can take up a substantial part of memory), we need to take into account at least the largest halos and their gas data as well:"
   ]
  },
  {
   "cell_type": "code",
   "execution_count": 16,
   "metadata": {},
   "outputs": [],
   "source": [
    "def estimate_maximum_memory_per_process() -> float:\n",
    "    \"\"\"\n",
    "    Return size in memory of the gas cell data of the largest halo in TNG300-1.\n",
    "    \"\"\"\n",
    "    NUMBER_FIELDS_32 = 4  # 4 base fields\n",
    "    NUMBER_FIELDS_64 = 3  # plus 3 position values\n",
    "    cfg = config.get_default_config(MAIN_SIM)\n",
    "    halo_data = il.snapshot.loadHalo(\n",
    "        cfg.base_path, cfg.snap_num, id=0, partType=0, fields=[\"InternalEnergy\"]\n",
    "    )\n",
    "    field_size = sys.getsizeof(halo_data)  # in bytes\n",
    "    print(f\"Number of gas cells in largest halo: {len(halo_data):,.0f}.\")\n",
    "    # calculate size in memory\n",
    "    memory = NUMBER_FIELDS_32 * field_size + NUMBER_FIELDS_64 * field_size * 2\n",
    "    return memory / 1024. / 1024. / 1024.  # in GB "
   ]
  },
  {
   "cell_type": "code",
   "execution_count": 17,
   "metadata": {},
   "outputs": [
    {
     "name": "stdout",
     "output_type": "stream",
     "text": [
      "Total number of halos: 17,625,892\n",
      "Number of gas cells in largest halo: 31,423,633.\n",
      "Estimated size in memory: 166.2551 GB\n",
      "Size of gas cells for largest halo: 1.1706 GB\n",
      "Estimated additional memory @72 processes: 42.1424 GB\n",
      "\n",
      "TOTAL: 208.40 GB\n"
     ]
    }
   ],
   "source": [
    "histsize = estimate_file_size_for_2dhists()\n",
    "max_mem = estimate_maximum_memory_per_process()\n",
    "print(f\"Estimated size in memory: {histsize:.4f} GB\")\n",
    "print(f\"Size of gas cells for largest halo: {max_mem:.4f} GB\")\n",
    "print(f\"Estimated additional memory @72 processes: {72 * max_mem / 2:.4f} GB\")\n",
    "print(f\"\\nTOTAL: {histsize + 72 * max_mem / 2:.2f} GB\")"
   ]
  },
  {
   "cell_type": "markdown",
   "metadata": {},
   "source": [
    "This, with the additional halo data, is already be enough to fill all memory on a standard computation node: the halo data consists of 5 fields (mass, radius, position coordinates) which equals $5 \\cdot 32 B \\cdot 17,625,892 = 2.6264 GB$ of halo data. Since this data is copied into every process, this leads to a total halo data memory allocation of $2.6 GB \\cdot 72 = 189 GB$. \n",
    "\n",
    "This leads to a grand total of $\\sim 397 GB$ of maximally used memory.\n",
    "\n",
    "A 500GB node seems to be the only option here; perhaps a 1TB node may even become necessary."
   ]
  },
  {
   "cell_type": "markdown",
   "metadata": {},
   "source": [
    "## Exploring offsets\n",
    "\n",
    "Here we want to understand how offset files work: what do offsets loaded with `il.snapshot.getSnapOffsets` look like, what do the individual offsets reprsent and most importantly: which offset gives us the first particle ID in a FoF group."
   ]
  },
  {
   "cell_type": "code",
   "execution_count": 19,
   "metadata": {},
   "outputs": [],
   "source": [
    "def explore_offsets() -> dict:\n",
    "    cfg = config.get_default_config(MAIN_SIM)\n",
    "    offsets = il.snapshot.getSnapOffsets(cfg.base_path, cfg.snap_num, 28364, \"Group\")\n",
    "    print(f\"Shape of 'snapOffsets': {offsets['snapOffsets'].shape}\")\n",
    "    print(f\"Shape of 'lenType': {offsets['lenType'].shape}, type: {type(offsets['lenType'][0])}\")\n",
    "    print(f\"Shape of 'offsetType': {offsets['offsetType'].shape}, type: {type(offsets['offsetType'][0])}\")\n",
    "    return offsets"
   ]
  },
  {
   "cell_type": "code",
   "execution_count": 20,
   "metadata": {},
   "outputs": [
    {
     "name": "stdout",
     "output_type": "stream",
     "text": [
      "Shape of 'snapOffsets': (6, 600)\n",
      "Shape of 'lenType': (6,), type: <class 'numpy.int32'>\n",
      "Shape of 'offsetType': (6,), type: <class 'numpy.int64'>\n",
      "CPU times: user 5.47 ms, sys: 0 ns, total: 5.47 ms\n",
      "Wall time: 27.3 ms\n"
     ]
    },
    {
     "data": {
      "text/plain": [
       "{'snapOffsets': array([[          0,    23851047,    47762531, ..., 14382702488,\n",
       "         14406373170, 14430545360],\n",
       "        [          0,    25680412,    51322410, ..., 15546108263,\n",
       "         15572641241, 15598828199],\n",
       "        [          0,           0,           0, ...,           0,\n",
       "                   0,           0],\n",
       "        [          0,    27199194,    54194711, ..., 15531779586,\n",
       "         15561116312, 15592723539],\n",
       "        [          0,     1787650,     3494151, ...,   708520692,\n",
       "           709748698,   710864666],\n",
       "        [          0,        1103,        2201, ...,      697660,\n",
       "              698785,      699983]]),\n",
       " 'lenType': array([ 8411, 30518,     0,     0,  4194,     2], dtype=int32),\n",
       " 'offsetType': array([2488838398, 4775404601,          0,          0,  571438234,\n",
       "            156918])}"
      ]
     },
     "execution_count": 20,
     "metadata": {},
     "output_type": "execute_result"
    }
   ],
   "source": [
    "%time explore_offsets()"
   ]
  },
  {
   "cell_type": "markdown",
   "metadata": {},
   "source": [
    "It appears that `lenType` gives the number of particles per type in the given halo, while `offsetType` gives the index of the first particle of every type belonging to that halo. This way, one can get all particles of particle type `i` by slicing an array of all particles of type `i` using\n",
    "\n",
    "```python\n",
    "halo_particles = type_i_particles[offsets[\"offsetType\"][i] : offsets[\"offsetType\"][i] + offsets[\"lenType\"][i]]\n",
    "```\n",
    "\n",
    "The `snapOffsets` are probably the offsets of the first particle of every type across all snapshots."
   ]
  },
  {
   "cell_type": "markdown",
   "metadata": {},
   "source": [
    "## Comparing virial temperature estimates\n",
    "\n",
    "We have two virial temperature estimates that we want to compare: firstly, the virial temperature estimate from Nelson et al. (2013), which is based on Barkana & Loeb (2001) and which assumes a molecular mean weight of $\\mu \\sim 0.6$ and a virial radius fully determined by the mass:\n",
    "\n",
    "$$T_{vir} \\simeq 4 \\cdot 10^5 \\text{K} \\left( \\dfrac{M}{10^{11} h^{-1} M_\\odot} \\right)^\\frac{2}{3} \\left( \\dfrac{1 + z}{3} \\right)$$\n",
    "\n",
    "Secondly, we have the estimate derived ourselves directly from the virial theorem, assuming the halo is virialized and the velocities within are thermal velocities, caused purely by the gravitational potential:\n",
    "\n",
    "$$T_{vir} \\simeq \\dfrac{2}{5} \\dfrac{G M m_p}{R k_B}$$\n",
    "\n",
    "We might wish to improve this relation by replacing the pure proton mass with the term $\\mu m_p$ for more accuracy. This is (sans the pre-factor) equivalent to the formula for virial temperature in Barkana & Loeb (2001):\n",
    "\n",
    "$$T_{vir} \\simeq \\dfrac{\\mu m_p}{2k_B} \\dfrac{GM}{R}$$\n",
    "\n",
    "We now want to see how these compare."
   ]
  },
  {
   "cell_type": "code",
   "execution_count": 21,
   "metadata": {},
   "outputs": [],
   "source": [
    "def virial_temperature_nelson(mass: float) -> float:\n",
    "    \"\"\"Return virial temperature according to Nelson et al. (2013)\"\"\"\n",
    "    return 4e5 * (mass / (1e11 * (constants.HUBBLE)**(-1)))**(2/3) / 3\n",
    "                  \n",
    "\n",
    "def virial_temperature_simple(mass: float, radius: float) -> float:\n",
    "    \"\"\"Return the virial temperature according to a simple estimate\"\"\"\n",
    "    numerator = 2 * constants.G * constants.m_p * mass * constants.M_sol\n",
    "    denominator = 5 * radius * constants.kpc * constants.k_B\n",
    "    return numerator / denominator\n",
    "\n",
    "\n",
    "def virial_temperature_barakana_loeb(mass: float, radius: float) -> float:\n",
    "    \"\"\"\n",
    "    Return the virial temperature according to Barkana & Loeb (2002)\n",
    "    \"\"\"\n",
    "    numerator = 0.6 * constants.m_p * constants.G * constants.M_sol * mass\n",
    "    denominator = 2 * constants.k_B * constants.kpc * radius\n",
    "    return numerator / denominator\n",
    "\n",
    "\n",
    "def compare_virial_temperatures(halo_id: int) -> None:\n",
    "    \"\"\"\n",
    "    Calculate halo virial temperature in three ways and print result\n",
    "\n",
    "    :param halo_id: The halo ID of the halo to use.\n",
    "    \"\"\"\n",
    "    cfg = config.get_default_config(MAIN_SIM)\n",
    "    halo_data = il.groupcat.loadSingle(cfg.base_path, cfg.snap_num, haloID=halo_id)\n",
    "    mass = halo_data[cfg.mass_field] * 1e10 / constants.HUBBLE\n",
    "    radius = halo_data[cfg.radius_field] / constants.HUBBLE\n",
    "\n",
    "    if radius == 0:\n",
    "        print(\"Halo has no virial radius, skipping.\")\n",
    "        return\n",
    "\n",
    "    # out put comparison\n",
    "    print(f\"Nelson: log T = {np.log10(virial_temperature_nelson(mass))}\")\n",
    "    print(f\"Simple: log T = {np.log10(virial_temperature_simple(mass, radius))}\")\n",
    "    print(f\"B&L: log T = {np.log10(virial_temperature_barakana_loeb(mass, radius))}\")"
   ]
  },
  {
   "cell_type": "code",
   "execution_count": 22,
   "metadata": {},
   "outputs": [
    {
     "name": "stdout",
     "output_type": "stream",
     "text": [
      "Halo with ID 12:\n",
      "Nelson: log T = 7.556409957182588\n",
      "Simple: log T = 7.8725278666830665\n",
      "B&L: log T = 7.747589130074766\n",
      "\n",
      "Halo with ID 11621575:\n",
      "Nelson: log T = 3.6425041935882088\n",
      "Simple: log T = 3.9586291472903232\n",
      "B&L: log T = 3.8336904106820233\n",
      "\n",
      "Halo with ID 1756572:\n",
      "Nelson: log T = 4.429856123873045\n",
      "Simple: log T = 4.745967264795469\n",
      "B&L: log T = 4.6210285281871695\n",
      "\n",
      "Halo with ID 11019278:\n",
      "Nelson: log T = 3.6995978690496414\n",
      "Simple: log T = 4.015697872142057\n",
      "B&L: log T = 3.8907591355337563\n",
      "\n",
      "Halo with ID 2013071:\n",
      "Nelson: log T = 4.378761821574531\n",
      "Simple: log T = 4.6948640037766465\n",
      "B&L: log T = 4.569925267168347\n",
      "\n",
      "Halo with ID 2192470:\n",
      "Nelson: log T = 4.282986179156656\n",
      "Simple: log T = 4.599103422620775\n",
      "B&L: log T = 4.474164686012475\n"
     ]
    }
   ],
   "source": [
    "print(\"Halo with ID 12:\")\n",
    "compare_virial_temperatures(12)\n",
    "print(\"\")\n",
    "\n",
    "for _ in range(5): \n",
    "    id = np.random.randint(0, 17_000_000)\n",
    "    print(f\"Halo with ID {id}:\")\n",
    "    compare_virial_temperatures(id)\n",
    "    print(\"\")"
   ]
  },
  {
   "cell_type": "markdown",
   "metadata": {},
   "source": [
    "We see that the estimation from Nelson (2013) is noticably smaller than the two other estimates. The difference between the last two values is explained by the different coeffcient, of course. "
   ]
  },
  {
   "cell_type": "markdown",
   "metadata": {},
   "source": [
    "## TNG-Cluster\n",
    "\n",
    "We now want to understand how to use TNG-Cluster and how its files are organized. According to its documentation, it can be used just like the other three TNG simulations. Let;s test this by loading some classic halo properties:"
   ]
  },
  {
   "cell_type": "code",
   "execution_count": 16,
   "metadata": {},
   "outputs": [],
   "source": [
    "def load_cluster_properties(fields: list) -> dict:\n",
    "    \"\"\"Load the given properties from TNG-Cluster\"\"\"\n",
    "    cfg = config.get_default_config(CLUSTER)\n",
    "    fields.append(\"GroupPrimaryZoomTarget\")\n",
    "    halo_data = il.groupcat.loadHalos(cfg.base_path, cfg.snap_num, fields = fields)\n",
    "    return halo_data\n",
    "\n",
    "\n",
    "def test_some_cluster_stuff() -> None:\n",
    "    \"\"\"Test some random stuff about TNG-Cluster\"\"\"\n",
    "    fields = [\"Group_M_Crit200\", \"GroupOrigHaloID\"]\n",
    "    halo_data = load_cluster_properties(fields)\n",
    "\n",
    "    # test the number of halos\n",
    "    print(f\"Loaded {len(halo_data['Group_M_Crit200'])} halos.\")\n",
    "\n",
    "    # test what the IDs look like\n",
    "    print(halo_data[\"GroupOrigHaloID\"][:400])\n",
    "\n",
    "    # count number of original zooms\n",
    "    n_original_targets = np.count_nonzero(halo_data[\"GroupPrimaryZoomTarget\"])\n",
    "    print(f'Original zoom targets: {n_original_targets}')\n",
    "    # IDs of zoom targets\n",
    "    print(f\"IDs of zoom targets: {np.nonzero(halo_data['GroupPrimaryZoomTarget'])}\")\n",
    "    # Original IDs of zoom targets\n",
    "    origs = selection.mask_quantity(\n",
    "        halo_data[\"GroupOrigHaloID\"], \n",
    "        halo_data[\"GroupPrimaryZoomTarget\"],\n",
    "        index=1,\n",
    "    )\n",
    "    print(f\"Original IDs of zoom-ins: {origs}\")"
   ]
  },
  {
   "cell_type": "code",
   "execution_count": 17,
   "metadata": {},
   "outputs": [
    {
     "name": "stdout",
     "output_type": "stream",
     "text": [
      "Loaded 19453039 halos.\n",
      "[0 0 0 0 0 0 0 0 0 0 0 0 0 0 0 0 0 0 0 0 0 0 0 0 0 0 0 0 0 0 0 0 0 0 0 0 0\n",
      " 0 0 0 0 0 0 0 0 0 0 0 0 0 0 0 0 0 0 0 0 0 0 0 0 0 0 0 0 0 0 0 0 0 0 0 0 0\n",
      " 0 0 0 0 0 0 0 0 0 0 0 0 0 0 0 0 0 0 0 0 0 0 0 0 0 0 0 0 0 0 0 0 0 0 0 0 0\n",
      " 0 0 0 0 0 0 0 0 0 0 0 0 0 0 0 0 0 0 0 0 0 0 0 0 0 0 0 0 0 0 0 0 0 0 0 0 0\n",
      " 0 0 0 0 0 0 0 0 0 0 0 0 0 0 0 0 0 0 0 0 0 0 0 0 0 0 0 0 0 0 0 0 0 0 0 0 0\n",
      " 0 0 0 0 0 0 0 0 0 0 0 0 0 0 0 0 0 0 0 0 0 0 0 0 0 0 0 0 0 0 0 0 0 0 0 0 0\n",
      " 0 0 0 0 0 0 0 0 0 0 0 0 0 0 0 0 0 0 0 0 0 0 0 0 0 0 0 0 0 0 0 0 0 0 0 0 0\n",
      " 0 0 0 0 0 0 0 0 0 0 0 0 0 0 0 0 0 0 0 0 0 0 0 0 0 0 0 0 0 0 0 0 0 0 0 0 0\n",
      " 0 0 0 0 0 0 0 0 0 0 0 0 0 0 0 0 0 0 0 0 0 0 0 0 0 0 0 0 0 0 0 0 0 0 0 0 0\n",
      " 0 0 0 0 0 0 0 0 0 0 0 0 0 0 0 0 0 0 0 0 0 0 0 0 0 0 0 0 0 0 0 0 0 0 0 0 0\n",
      " 0 0 0 0 0 0 0 0 0 0 0 0 0 0 0 0 0 0 0 0 0 0 0 0 0 0 0 0 0 0]\n",
      "Original zoom targets: 352\n",
      "IDs of zoom targets: (array([       0,   252455,   476245,   692426,   880597,  1068507,\n",
      "        1263653,  1431487,  1580995,  1763481,  1921024,  2069291,\n",
      "        2213486,  2380799,  2507618,  2637623,  2771226,  2892630,\n",
      "        3020669,  3135769,  3238091,  3343359,  3457081,  3556542,\n",
      "        3656685,  3758330,  3863281,  3960854,  4054274,  4152102,\n",
      "        4254230,  4356618,  4461296,  4561713,  4656216,  4753637,\n",
      "        4854863,  4959833,  5059214,  5160063,  5251697,  5348819,\n",
      "        5432141,  5524229,  5608717,  5693289,  5787144,  5873398,\n",
      "        5956970,  6043040,  6130348,  6225917,  6325415,  6412656,\n",
      "        6499612,  6574070,  6664769,  6748564,  6834499,  6913365,\n",
      "        6991026,  7065334,  7146294,  7235867,  7325028,  7403396,\n",
      "        7474466,  7547375,  7630798,  7706133,  7778424,  7860333,\n",
      "        7935722,  8012756,  8094210,  8175593,  8241267,  8311356,\n",
      "        8384388,  8460952,  8560074,  8629805,  8714627,  8790231,\n",
      "        8874396,  8943467,  9009954,  9083738,  9158821,  9229180,\n",
      "        9298035,  9363765,  9439759,  9513551,  9574391,  9644244,\n",
      "        9720881,  9819553,  9890449,  9956048, 10017312, 10087222,\n",
      "       10157377, 10219640, 10293151, 10351662, 10422957, 10484363,\n",
      "       10545631, 10612178, 10672584, 10739656, 10809596, 10886163,\n",
      "       10943032, 11009511, 11069985, 11128914, 11186149, 11247535,\n",
      "       11318647, 11375025, 11433807, 11484512, 11543591, 11603245,\n",
      "       11659115, 11713845, 11767506, 11823213, 11876224, 11929315,\n",
      "       11988351, 12045847, 12109947, 12169414, 12224103, 12274768,\n",
      "       12334208, 12381782, 12432056, 12485362, 12534413, 12582631,\n",
      "       12632860, 12698185, 12755885, 12816749, 12871237, 12925049,\n",
      "       12981983, 13035077, 13083432, 13133868, 13176044, 13231280,\n",
      "       13291544, 13341116, 13388143, 13432142, 13479426, 13532711,\n",
      "       13581051, 13634459, 13686751, 13737849, 13792287, 13845328,\n",
      "       13886810, 13927129, 13988217, 14038844, 14084296, 14128437,\n",
      "       14179019, 14219518, 14258311, 14300805, 14346919, 14397702,\n",
      "       14441698, 14486018, 14528100, 14579813, 14623683, 14664682,\n",
      "       14718371, 14760358, 14814156, 14859514, 14900038, 14940417,\n",
      "       14985016, 15031462, 15087132, 15125179, 15172951, 15214679,\n",
      "       15264704, 15304907, 15348580, 15386285, 15428207, 15465516,\n",
      "       15500142, 15543062, 15586138, 15620242, 15668851, 15708936,\n",
      "       15746111, 15789938, 15834634, 15876167, 15916351, 15955034,\n",
      "       15989514, 16033074, 16065958, 16103108, 16137289, 16171546,\n",
      "       16207140, 16242314, 16276166, 16311240, 16348359, 16376258,\n",
      "       16420527, 16460046, 16493902, 16529449, 16561645, 16596897,\n",
      "       16634007, 16665012, 16699050, 16731208, 16762704, 16796850,\n",
      "       16831490, 16860243, 16892124, 16921354, 16951023, 16976876,\n",
      "       17008669, 17037164, 17068674, 17098902, 17129688, 17164637,\n",
      "       17195160, 17222002, 17250499, 17283893, 17315353, 17352215,\n",
      "       17382530, 17411815, 17440255, 17469179, 17503683, 17534833,\n",
      "       17560743, 17589327, 17613539, 17645096, 17672515, 17704708,\n",
      "       17735014, 17759338, 17784892, 17812828, 17838922, 17869429,\n",
      "       17902774, 17927695, 17950429, 17983895, 18007868, 18031884,\n",
      "       18057470, 18083780, 18115595, 18143062, 18168907, 18193714,\n",
      "       18215742, 18235846, 18259461, 18285440, 18305929, 18326474,\n",
      "       18351627, 18373383, 18399944, 18421126, 18445260, 18464818,\n",
      "       18491313, 18512862, 18539098, 18558842, 18579555, 18602073,\n",
      "       18624090, 18643420, 18663609, 18685064, 18706787, 18727320,\n",
      "       18750520, 18771334, 18788090, 18809506, 18827654, 18851017,\n",
      "       18867961, 18887856, 18908963, 18929622, 18948062, 18969218,\n",
      "       18989886, 19007993, 19030246, 19048967, 19063700, 19082221,\n",
      "       19102051, 19119113, 19136797, 19153100, 19170433, 19184393,\n",
      "       19211783, 19230547, 19246529, 19262770, 19277552, 19296435,\n",
      "       19313671, 19327357, 19340302, 19357750, 19372389, 19389199,\n",
      "       19402069, 19416927, 19429412, 19441351]),)\n",
      "Original IDs of zoom-ins: [   0    1    2    3    4    5    6    7    8    9   10   11   12   13\n",
      "   14   15   16   17   18   19   20   21   22   23   24   25   26   27\n",
      "   28   29   30   31   33   34   35   36   37   38   39   40   42   44\n",
      "   45   46   49   50   51   52   53   54   55   56   58   60   61   63\n",
      "   65   67   68   69   70   71   72   73   74   75   77   78   79   81\n",
      "   82   84   85   88   90   91   93   94   96   97   99  100  101  102\n",
      "  105  107  108  109  111  112  113  115  117  118  120  121  124  125\n",
      "  127  128  129  130  136  137  140  141  143  144  146  147  149  151\n",
      "  152  155  156  157  159  167  168  171  178  179  187  196  198  202\n",
      "  203  205  209  210  211  216  217  223  224  229  231  232  236  238\n",
      "  239  240  245  248  253  262  265  266  269  270  278  280  281  282\n",
      "  283  284  299  310  312  315  319  321  330  331  343  347  354  360\n",
      "  361  363  367  368  372  376  378  379  382  385  387  390  391  392\n",
      "  393  395  412  416  419  420  427  429  430  433  435  436  441  443\n",
      "  446  451  456  460  463  466  470  481  483  485  490  496  497  503\n",
      "  510  518  532  553  562  571  580  586  592  596  616  625  636  653\n",
      "  694  698  701  717  720  735  751  752  778  785  789  790  797  798\n",
      "  799  811  836  844  850  856  858  861  877  884  898  901  963  978\n",
      "  980  992  997  998 1016 1039 1041 1062 1066 1067 1071 1086 1087 1106\n",
      " 1112 1152 1179 1224 1241 1244 1248 1254 1291 1296 1332 1335 1351 1384\n",
      " 1404 1419 1430 1459 1466 1498 1523 1544 1547 1567 1673 1704 1724 1736\n",
      " 1759 1766 1775 1838 1856 1863 1890 1891 1896 1909 1919 1938 1991 2011\n",
      " 2023 2037 2054 2056 2127 2145 2155 2167 2191 2195 2209 2264 2341 2349\n",
      " 2393 2468 2531 2617 2681 2724 2750 2766 2791 3022 3025 3085 3128 3169\n",
      " 3232 3297 3337 3372 3425 3693 3775 3859 3909 3934 4274 4369 4394 4414\n",
      " 5122 5711]\n",
      "352\n"
     ]
    }
   ],
   "source": [
    "test_some_cluster_stuff()"
   ]
  },
  {
   "cell_type": "markdown",
   "metadata": {},
   "source": [
    "We now also test the extended features of the `get_halo_properties` function:"
   ]
  },
  {
   "cell_type": "code",
   "execution_count": 26,
   "metadata": {},
   "outputs": [],
   "source": [
    "def test_load_halo_func():\n",
    "    cfg = config.get_default_config(CLUSTER)\n",
    "    fields = [cfg.mass_field, cfg.radius_field]\n",
    "    halo_data = halos_daq.get_halo_properties(\n",
    "        cfg.base_path, cfg.snap_num, fields=fields, cluster_restrict=True\n",
    "    )\n",
    "    assert len(halo_data[\"IDs\"] == 352)\n",
    "    assert halo_data[\"count\"] == 352\n",
    "    # print(halo_data[\"IDs\"])\n",
    "\n",
    "    cfg = config.get_default_config(TEST_SIM)\n",
    "    try:\n",
    "        halo_data = halos_daq.get_halo_properties(\n",
    "            cfg.base_path, cfg.snap_num, fields=fields, cluster_restrict=True\n",
    "        )\n",
    "    except KeyError as e:\n",
    "        print(f\"KeyError succesfully raised, yay!\\n{str(e)}\")"
   ]
  },
  {
   "cell_type": "code",
   "execution_count": 27,
   "metadata": {},
   "outputs": [
    {
     "name": "stdout",
     "output_type": "stream",
     "text": [
      "INFO: Loading halo properties ['Group_M_Crit200', 'Group_R_Crit200'].\n",
      "INFO: Restricting halo data to original zoom-in clusters only.\n",
      "INFO: Finished loading halo properties.\n",
      "INFO: Loading halo properties ['Group_M_Crit200', 'Group_R_Crit200'].\n",
      "INFO: Restricting halo data to original zoom-in clusters only.\n",
      "CRITICAL: Attempted to restrict halo data for a simulation that is not TNG Cluster, exception will be raised.\n",
      "KeyError succesfully raised, yay!\n",
      "\"The simulation group catalogue does not provide the field 'GroupPrimaryZoomTarget'.\"\n"
     ]
    }
   ],
   "source": [
    "test_load_halo_func()"
   ]
  },
  {
   "cell_type": "code",
   "execution_count": null,
   "metadata": {},
   "outputs": [],
   "source": []
  }
 ],
 "metadata": {
  "kernelspec": {
   "display_name": "thesisEnv",
   "language": "python",
   "name": "python3"
  },
  "language_info": {
   "codemirror_mode": {
    "name": "ipython",
    "version": 3
   },
   "file_extension": ".py",
   "mimetype": "text/x-python",
   "name": "python",
   "nbconvert_exporter": "python",
   "pygments_lexer": "ipython3",
   "version": "3.10.9"
  },
  "orig_nbformat": 4
 },
 "nbformat": 4,
 "nbformat_minor": 2
}
