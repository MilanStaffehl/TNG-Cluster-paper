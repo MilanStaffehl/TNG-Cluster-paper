{
 "cells": [
  {
   "cell_type": "markdown",
   "metadata": {},
   "source": [
    "# Historgrams of temperature distribution\n",
    "\n",
    "The first few plots will show the distribution of temperature in halos, in different ways:\n",
    "\n",
    "- Gas mass fraction vs. temperature histogram for individual halos of different masses\n",
    "- Gas mass fraction vs. temperature histogram for all halos within a certain mass bin, averaged\n",
    "- Gas mass fraction vs. temperature histogram for all halos in the simulation, averaged"
   ]
  },
  {
   "cell_type": "markdown",
   "metadata": {},
   "source": [
    "## Set-up\n",
    "\n",
    "Setting up the Python env"
   ]
  },
  {
   "cell_type": "code",
   "execution_count": 1,
   "metadata": {},
   "outputs": [],
   "source": [
    "# IMPORTS\n",
    "import logging\n",
    "import logging.config\n",
    "import matplotlib as mpl\n",
    "import matplotlib.pyplot as plt\n",
    "import numpy as np\n",
    "import numpy.ma as ma\n",
    "import os\n",
    "import sys\n",
    "from numpy.typing import ArrayLike\n",
    "from pathlib import Path\n",
    "from typing import Any, Union\n",
    "\n",
    "import illustris_python as il"
   ]
  },
  {
   "cell_type": "markdown",
   "metadata": {},
   "source": [
    "Importing helper scripts"
   ]
  },
  {
   "cell_type": "code",
   "execution_count": 2,
   "metadata": {},
   "outputs": [],
   "source": [
    "# import the helper scripts\n",
    "module_path = Path(os.getcwd()) / \"..\" / \"src\"\n",
    "sys.path.append(str(module_path.resolve()))\n",
    "import logging_config \n",
    "import plotters\n",
    "import config\n",
    "import constants"
   ]
  },
  {
   "cell_type": "markdown",
   "metadata": {},
   "source": [
    "Set up a small logging environment for impromptu logging during lengthy operations:"
   ]
  },
  {
   "cell_type": "code",
   "execution_count": 3,
   "metadata": {},
   "outputs": [
    {
     "name": "stdout",
     "output_type": "stream",
     "text": [
      "INFO: I am a test log!\n"
     ]
    }
   ],
   "source": [
    "logging_cfg = logging_config.get_logging_config(\"INFO\")\n",
    "logging.config.dictConfig(logging_cfg)\n",
    "logger = logging.getLogger(\"root\")\n",
    "# test setup\n",
    "logger.info(\"I am a test log!\")"
   ]
  },
  {
   "cell_type": "markdown",
   "metadata": {},
   "source": [
    "Define some globals that point to different simulations:"
   ]
  },
  {
   "cell_type": "code",
   "execution_count": 21,
   "metadata": {},
   "outputs": [],
   "source": [
    "TEST_SIM = \"TNG50-4\"\n",
    "DEV_SIM = \"TNG300-2\"\n",
    "MAIN_SIM = \"TNG300-1\""
   ]
  },
  {
   "cell_type": "markdown",
   "metadata": {},
   "source": [
    "## Probing plots\n",
    "\n",
    "Firstly, the distribution of masses in the simulation should be probed to get an idea of how to best bin the halos by mass."
   ]
  },
  {
   "cell_type": "code",
   "execution_count": 6,
   "metadata": {},
   "outputs": [],
   "source": [
    "def plot_halo_mass_distribution() -> None:\n",
    "    \"\"\"Plot the mass distribution of halos in TNG300-1\"\"\"\n",
    "    logger.info(\"Loading halo mass data.\")\n",
    "    cfg = config.get_config(MAIN_SIM)\n",
    "    masses = il.groupcat.loadHalos(\n",
    "        cfg.base_path, cfg.snap_num, fields=cfg.mass_field\n",
    "    )\n",
    "    # adjust for units\n",
    "    masses = masses * 1e10 / constants.HUBBLE\n",
    "\n",
    "    max_mass = np.max(masses)\n",
    "\n",
    "    # plot hist of masses in log scale\n",
    "    logger.info(\"Plotting histrogram.\")\n",
    "    fig, axes = plt.subplots(figsize=(5, 5))\n",
    "    axes.set_xlabel(r\"Masses ($M_{Crit, 200}$) [$\\log M_\\odot$]\")\n",
    "    axes.set_ylabel(\"Count\")\n",
    "    axes.set_title(\"Mass distribution in TNG300-1\")\n",
    "    plot_config = {\n",
    "        \"bins\": 40,\n",
    "        \"histtype\": \"stepfilled\",\n",
    "        \"log\": False,\n",
    "        \"edgecolor\": \"black\",\n",
    "        \"facecolor\": \"crimson\",\n",
    "    }\n",
    "    # plot only the log and exclude masses near zero\n",
    "    axes.hist(np.log10(masses[(masses > 1)]), **plot_config)\n",
    "    # add info on min and max mass\n",
    "    axes.text(11.8, 2e5, rf\"Max mass: ${max_mass:.2e} M_\\odot$\")\n"
   ]
  },
  {
   "cell_type": "code",
   "execution_count": 7,
   "metadata": {},
   "outputs": [
    {
     "name": "stdout",
     "output_type": "stream",
     "text": [
      "INFO: Loading halo mass data.\n",
      "INFO: Plotting histrogram.\n"
     ]
    },
    {
     "data": {
      "image/png": "[encoded data removed]",
      "text/plain": [
       "<Figure size 500x500 with 1 Axes>"
      ]
     },
     "metadata": {},
     "output_type": "display_data"
    }
   ],
   "source": [
    "plot_halo_mass_distribution()"
   ]
  },
  {
   "cell_type": "markdown",
   "metadata": {},
   "source": [
    "Judging by this, it is sensible to consider masses ranging from $10^8 M_\\odot$ up to around $10^{15} M_\\odot$, but given the fact that an overwhelmin majority of halos have masses between $10^8 M_\\odot$ and $10^{12} M_\\odot$, it might be advisable to exclude very high mass bins in the beginning and only consider them for plots of individual halo temperature distributions."
   ]
  },
  {
   "cell_type": "markdown",
   "metadata": {},
   "source": [
    "## Individual halos\n",
    "\n",
    "We begin with plotting the temperature distribution of individual halos. For this purpose, we provide a class that can load the required data once and then offers separate plotting methods so that they may be tweaked without reloading the data every time. This class is already writte with stacked histograms in mind, i.e. it already collects all data required for later plots."
   ]
  },
  {
   "cell_type": "code",
   "execution_count": 31,
   "metadata": {},
   "outputs": [],
   "source": [
    "MASS_BINS = [1e8, 1e9, 1e10, 1e11, 1e12, 1e13, 1e14, 1e15]\n",
    "hist_plotter = plotters.TemperatureDistributionPlotter(TEST_SIM, MASS_BINS)"
   ]
  },
  {
   "cell_type": "code",
   "execution_count": 32,
   "metadata": {},
   "outputs": [
    {
     "name": "stdout",
     "output_type": "stream",
     "text": [
      "Bin 0 [1.00e+08, 1.00e+09]): 61 halos\n",
      "Bin 1 [1.00e+09, 1.00e+10]): 9488 halos\n",
      "Bin 2 [1.00e+10, 1.00e+11]): 7324 halos\n",
      "Bin 3 [1.00e+11, 1.00e+12]): 1271 halos\n",
      "Bin 4 [1.00e+12, 1.00e+13]): 185 halos\n",
      "Bin 5 [1.00e+13, 1.00e+14]): 21 halos\n",
      "Bin 6 [1.00e+14, 1.00e+15]): 1 halos\n",
      "\n"
     ]
    }
   ],
   "source": [
    "# acquire data for plotting\n",
    "hist_plotter.get_data()\n",
    "print(hist_plotter)"
   ]
  },
  {
   "cell_type": "code",
   "execution_count": 33,
   "metadata": {},
   "outputs": [
    {
     "name": "stdout",
     "output_type": "stream",
     "text": [
      "INFO: Beginning histogram data generation.\n",
      "INFO: Processing halos in mass bin 0/7.\n",
      "INFO: Finished processing mass bin 0/7, processed 61 halos.\n",
      "INFO: Processing halos in mass bin 1/7.\n",
      "INFO: Finished processing mass bin 1/7, processed 9403 halos.\n",
      "INFO: Processing halos in mass bin 2/7.\n",
      "INFO: Finished processing mass bin 2/7, processed 7310 halos.\n",
      "INFO: Processing halos in mass bin 3/7.\n",
      "INFO: Finished processing mass bin 3/7, processed 1271 halos.\n",
      "INFO: Processing halos in mass bin 4/7.\n",
      "INFO: Finished processing mass bin 4/7, processed 185 halos.\n",
      "INFO: Processing halos in mass bin 5/7.\n",
      "INFO: Finished processing mass bin 5/7, processed 21 halos.\n",
      "INFO: Processing halos in mass bin 6/7.\n",
      "INFO: Finished processing mass bin 6/7, processed 1 halos.\n",
      "IO: 6487465.4754098365 ns (0.00%) | Calc: 1.6904692512869107e+18 ns (100.00%)\n",
      "IO: 6314254.098798255 ns (0.00%) | Calc: 1.690469327015704e+18 ns (100.00%)\n",
      "IO: 6383282.476744186 ns (0.00%) | Calc: 1.690469433292827e+18 ns (100.00%)\n",
      "IO: 6468092.459480724 ns (0.00%) | Calc: 1.690469527529138e+18 ns (100.00%)\n",
      "IO: 6787695.72972973 ns (0.00%) | Calc: 1.690469629366492e+18 ns (100.00%)\n",
      "IO: 13270754.857142856 ns (0.00%) | Calc: 1.6904697905851418e+18 ns (100.00%)\n",
      "IO: 10768031.0 ns (0.00%) | Calc: 1.6904698513207332e+18 ns (100.00%)\n"
     ]
    },
    {
     "ename": "IndexError",
     "evalue": "list index out of range",
     "output_type": "error",
     "traceback": [
      "\u001b[0;31m---------------------------------------------------------------------------\u001b[0m",
      "\u001b[0;31mIndexError\u001b[0m                                Traceback (most recent call last)",
      "Cell \u001b[0;32mIn[33], line 3\u001b[0m\n\u001b[1;32m      1\u001b[0m \u001b[39m# calculate hist data\u001b[39;00m\n\u001b[1;32m      2\u001b[0m \u001b[39mimport\u001b[39;00m \u001b[39mtime\u001b[39;00m\n\u001b[0;32m----> 3\u001b[0m hist_plotter\u001b[39m.\u001b[39;49mget_hists()\n",
      "Cell \u001b[0;32mIn[30], line 144\u001b[0m, in \u001b[0;36mTemperatureDistributionPlotter.get_hists\u001b[0;34m(self)\u001b[0m\n\u001b[1;32m    142\u001b[0m totals \u001b[39m=\u001b[39m avg_calctimes \u001b[39m+\u001b[39m avg_iotimes\n\u001b[1;32m    143\u001b[0m \u001b[39mfor\u001b[39;00m i \u001b[39min\u001b[39;00m \u001b[39mrange\u001b[39m(\u001b[39mlen\u001b[39m(totals)):\n\u001b[0;32m--> 144\u001b[0m     \u001b[39mprint\u001b[39m(\u001b[39mf\u001b[39m\u001b[39m\"\u001b[39m\u001b[39mIO: \u001b[39m\u001b[39m{\u001b[39;00mavg_iotimes[i]\u001b[39m}\u001b[39;00m\u001b[39m ns (\u001b[39m\u001b[39m{\u001b[39;00mavg_iotimes[i] \u001b[39m/\u001b[39m totals[i] \u001b[39m*\u001b[39m \u001b[39m100\u001b[39m\u001b[39m:\u001b[39;00m\u001b[39m.2f\u001b[39m\u001b[39m}\u001b[39;00m\u001b[39m%) | Calc: \u001b[39m\u001b[39m{\u001b[39;00mavg_calctimes[i]\u001b[39m}\u001b[39;00m\u001b[39m ns (\u001b[39m\u001b[39m{\u001b[39;00mavg_calctimes[i] \u001b[39m/\u001b[39m totals[i] \u001b[39m*\u001b[39m \u001b[39m100\u001b[39m\u001b[39m:\u001b[39;00m\u001b[39m.2f\u001b[39m\u001b[39m}\u001b[39;00m\u001b[39m%)\u001b[39m\u001b[39m\"\u001b[39m)\n\u001b[1;32m    145\u001b[0m iot \u001b[39m=\u001b[39m np\u001b[39m.\u001b[39maverage(avg_iotimes)\n\u001b[1;32m    146\u001b[0m ct \u001b[39m=\u001b[39m np\u001b[39m.\u001b[39maverage(avg_calctimes)\n",
      "\u001b[0;31mIndexError\u001b[0m: list index out of range"
     ]
    }
   ],
   "source": [
    "# calculate hist data\n",
    "hist_plotter.get_hists()"
   ]
  }
 ],
 "metadata": {
  "kernelspec": {
   "display_name": "thesisEnv",
   "language": "python",
   "name": "python3"
  },
  "language_info": {
   "codemirror_mode": {
    "name": "ipython",
    "version": 3
   },
   "file_extension": ".py",
   "mimetype": "text/x-python",
   "name": "python",
   "nbconvert_exporter": "python",
   "pygments_lexer": "ipython3",
   "version": "3.10.9"
  },
  "orig_nbformat": 4
 },
 "nbformat": 4,
 "nbformat_minor": 2
}
